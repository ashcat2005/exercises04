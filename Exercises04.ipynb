{
 "cells": [
  {
   "cell_type": "markdown",
   "metadata": {
    "id": "0NQKBUbAejFV"
   },
   "source": [
    "# Computational Astrophysics\n",
    "## 04. Exercises"
   ]
  },
  {
   "cell_type": "markdown",
   "metadata": {
    "id": "QsBlwilWejFZ"
   },
   "source": [
    "**Name:** \n",
    "\n",
    "---"
   ]
  },
  {
   "cell_type": "markdown",
   "metadata": {
    "id": "0ODMWI1fejFa"
   },
   "source": [
    "## 1. Simple Estimation using `AstroPy`\n",
    "Use the constants and units packages of `astropy` to estimate how long does the light travel from the Sun to the Earth in minutes and how long does the light travel from the Galactic Center to the Solar System (assume a distance of 8 kpc) in years.\n",
    "\n",
    "---\n",
    "## 2. Definition of Units\n",
    "Using `astropy`, define a new unit called `\"baro-meter\"`, which is eqivalent to 25 cm and use it to measure the height of the empire state building (assume a height of 381 meters). Hint: Read the [Astropy documentation on combining and defining units](http://docs.astropy.org/en/stable/units/combining_and_defining.html).\n",
    "\n",
    "**If you think that this exercise is a little odd, see other ways to measure the height of a building using a barometer at [barometer question on Wikipedia](https://en.wikipedia.org/wiki/Barometer_question)**\n",
    "\n",
    "---\n",
    "## 3. Black Body Spectrum and Wien's Law\n",
    "- Find the frequency with the maximum photon rate of the black body spectrum $\\mathcal{B}(\\nu, T)$ with temperature $T=5000\\mathrm{ K}$. You can use a numerical optimization routine such as [scipy.optimize.minimize](https://docs.scipy.org/doc/scipy/reference/generated/scipy.optimize.minimize.html).\n",
    "\n",
    "Hint: As the frequency as well as the radiance can cover many orders of magnitude, the stability of the algorithm can be much improved by minimizing the (negative) logarithm of the radiance $-\\log{\\mathcal{B}}$ as well as minimizing with respect to the logarithm of the frequency by introducing the variable $x = \\log{\\nu}$. \n",
    "\n",
    "- Compare the result against the analytical solution from [Wien's displacement law](https://en.wikipedia.org/wiki/Wien%27s_displacement_law). "
   ]
  },
  {
   "cell_type": "markdown",
   "metadata": {
    "id": "fC0ILvjlejFa"
   },
   "source": [
    "---\n",
    "## 4. Astronomical Coordinates and Angular Distance\n",
    "\n",
    "Define the sky coordinate for your favorite astronomical object (Not the Crab Nebula nor Sgr A*) and find the angular distance to the Galactic center.\n",
    "\n",
    "---\n",
    "## 5. Alt-Az Coordinates\n",
    "\n",
    "Make a plot of the height above horizon vs.time for Betelgeuse's position at the location of Bogotá. Mark the time range where it is visible. Would the Betelgeuse be visible tonight?"
   ]
  },
  {
   "cell_type": "markdown",
   "metadata": {
    "id": "FjubnJygejFa"
   },
   "source": [
    "---\n",
    "## 6. Tables\n",
    "\n",
    "Load ther 'example.fits' file created in class and add columns with the `RA` and `DEC` coordinates of the objects.\n"
   ]
  },
  {
   "cell_type": "markdown",
   "metadata": {
    "id": "CrmFChNxejFb"
   },
   "source": [
    "¡¡ Happy Coding !!"
   ]
  }
 ],
 "metadata": {
  "colab": {
   "collapsed_sections": [],
   "name": "Exercises03.ipynb",
   "provenance": []
  },
  "kernelspec": {
   "display_name": "Python 3 (ipykernel)",
   "language": "python",
   "name": "python3"
  },
  "language_info": {
   "codemirror_mode": {
    "name": "ipython",
    "version": 3
   },
   "file_extension": ".py",
   "mimetype": "text/x-python",
   "name": "python",
   "nbconvert_exporter": "python",
   "pygments_lexer": "ipython3",
   "version": "3.9.7"
  }
 },
 "nbformat": 4,
 "nbformat_minor": 1
}
